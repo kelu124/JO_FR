{
 "cells": [
  {
   "cell_type": "code",
   "execution_count": 1,
   "metadata": {
    "collapsed": true
   },
   "outputs": [],
   "source": [
    "import pandas as pd\n",
    "import numpy as np"
   ]
  },
  {
   "cell_type": "markdown",
   "metadata": {},
   "source": [
    "### country"
   ]
  },
  {
   "cell_type": "code",
   "execution_count": 30,
   "metadata": {},
   "outputs": [],
   "source": [
    "country = countryNameAndCode[['Country']]\n",
    "n = len(country)\n",
    "country.ix[:, 'pred_rank'] = 0\n",
    "country.ix[:, 'pred_gold'] = 0\n",
    "country.ix[:, 'pred_silver'] = 0\n",
    "country.ix[:, 'pred_bronze'] = 0\n",
    "# pred_rank\n",
    "# pred_gold\n",
    "# pred_silver\n",
    "# pred_bronze\n",
    "country.to_csv('resources/data clean/country.csv')"
   ]
  },
  {
   "cell_type": "markdown",
   "metadata": {},
   "source": [
    "### economics"
   ]
  },
  {
   "cell_type": "code",
   "execution_count": 48,
   "metadata": {
    "scrolled": true
   },
   "outputs": [],
   "source": [
    "def getData(gdp, cpi, income, population):\n",
    "    countryCode = gdp.index\n",
    "    yearCol = gdp.columns[1:]\n",
    "    tempDict = {'code': [], 'year': [], 'gdp': [], 'population': [], 'income': [], 'cpi': []}\n",
    "    for c in countryCode:\n",
    "        for y in yearCol:\n",
    "            tempDict['code'].append(c)\n",
    "            tempDict['year'].append(y)\n",
    "            tempDict['gdp'].append(gdp.ix[c, y])\n",
    "            tempDict['cpi'].append(cpi.ix[c, y])\n",
    "            tempDict['population'].append(population.ix[c, y])\n",
    "            tempDict['income'].append(income.ix[c, y])\n",
    "    tempDf = pd.DataFrame(tempDict)\n",
    "    return tempDf\n",
    "# code CHAR(3),\n",
    "# year INTEGER,\n",
    "# GDP FLOAT,\n",
    "# population FLOAT,\n",
    "# income FLOAT,\n",
    "# CPI FLOAT,\n",
    "economics = getData(countryGDP, countryCPI, countryrevenue, countrypopulation)\n",
    "economics.to_csv('resources/data clean/economics.csv')\n",
    "countryGDP.columns"
   ]
  },
  {
   "cell_type": "markdown",
   "metadata": {},
   "source": [
    "### PerformanceOfCountries"
   ]
  },
  {
   "cell_type": "code",
   "execution_count": 3,
   "metadata": {},
   "outputs": [],
   "source": [
    "countryOlympics = pd.read_csv('./resources/data clean/1896-2008 sports wise medal records.csv', header=0)"
   ]
  },
  {
   "cell_type": "code",
   "execution_count": 4,
   "metadata": {
    "collapsed": true
   },
   "outputs": [],
   "source": [
    "countryOlympicsTemp = countryOlympics[['Edition', 'NOC', 'Medal']]"
   ]
  },
  {
   "cell_type": "code",
   "execution_count": 5,
   "metadata": {},
   "outputs": [],
   "source": [
    "countryOlympics = countryOlympicsTemp.pivot_table(index=['NOC', 'Edition'], values=['Num'], columns=['Medal'], aggfunc=np.sum)"
   ]
  },
  {
   "cell_type": "code",
   "execution_count": 6,
   "metadata": {},
   "outputs": [],
   "source": [
    "def addRank(df): #countryOlympicsTemp\n",
    "#     tempdf = df.groupby(['Edition', 'NOC'])['Num'].sum()\n",
    "    tempdf = df.pivot_table(index=['NOC', 'Edition'], values=['Num'], columns=['Medal'], aggfunc=np.sum)\n",
    "    tempdf = tempdf.fillna(0)\n",
    "    tempdf.ix[:, 'Rank'] = 0\n",
    "    year = df['Edition'].unique()\n",
    "    for y in year:\n",
    "        tempdfyear = df[df['Edition'] == y]\n",
    "        tempdfcountry = tempdfyear.groupby('NOC')['Num'].sum()\n",
    "        num = len(tempdfcountry)\n",
    "        tempdfrank = num - tempdfcountry.argsort()\n",
    "        for a in tempdfrank.index:\n",
    "            tempdf.ix[(a, y), 'Rank'] = tempdfrank.ix[a]\n",
    "    return tempdf"
   ]
  },
  {
   "cell_type": "code",
   "execution_count": 149,
   "metadata": {},
   "outputs": [],
   "source": [
    "tempdf.to_csv('./resources/data clean/performanceofcountries.csv')"
   ]
  },
  {
   "cell_type": "markdown",
   "metadata": {
    "collapsed": true
   },
   "source": [
    "### PerformanceOfCountries 2012-2016"
   ]
  },
  {
   "cell_type": "code",
   "execution_count": null,
   "metadata": {
    "collapsed": true
   },
   "outputs": [],
   "source": [
    "data = pd.read_csv('./resources/data clean/prediction.csv', header=0, index_col=0)"
   ]
  },
  {
   "cell_type": "code",
   "execution_count": 16,
   "metadata": {
    "collapsed": true
   },
   "outputs": [],
   "source": [
    "data2012 = data[['2012_CPI', '2012_r', '2012', '2012_s', '2012_b']]\n",
    "data2012.ix[:, '2012_CPI'] = 2012\n",
    "data2012.columns = ['YEAR', 'RANK', 'NUM_OF_GOLD', 'NUM_OF_SILVER', 'NUM_OF_BRONZE']"
   ]
  },
  {
   "cell_type": "code",
   "execution_count": 18,
   "metadata": {},
   "outputs": [],
   "source": [
    "data2016 = data[['2012_CPI', '2016_r', '2016', '2016_s', '2016_b']]\n",
    "data2016.ix[:, '2012_CPI'] = 2016\n",
    "data2016.columns = ['YEAR', 'RANK', 'NUM_OF_GOLD', 'NUM_OF_SILVER', 'NUM_OF_BRONZE']"
   ]
  },
  {
   "cell_type": "code",
   "execution_count": 20,
   "metadata": {},
   "outputs": [],
   "source": [
    "dataDf = pd.concat([data2012, data2016], axis=0)"
   ]
  },
  {
   "cell_type": "code",
   "execution_count": 22,
   "metadata": {},
   "outputs": [],
   "source": [
    "dataDf.to_csv('./resources/data clean/performanceofcountries2012-2016.csv')"
   ]
  },
  {
   "cell_type": "code",
   "execution_count": null,
   "metadata": {
    "collapsed": true
   },
   "outputs": [],
   "source": []
  }
 ],
 "metadata": {
  "anaconda-cloud": {},
  "kernelspec": {
   "display_name": "Python 3",
   "language": "python",
   "name": "python3"
  },
  "language_info": {
   "codemirror_mode": {
    "name": "ipython",
    "version": 3
   },
   "file_extension": ".py",
   "mimetype": "text/x-python",
   "name": "python",
   "nbconvert_exporter": "python",
   "pygments_lexer": "ipython3",
   "version": "3.6.9"
  }
 },
 "nbformat": 4,
 "nbformat_minor": 1
}
